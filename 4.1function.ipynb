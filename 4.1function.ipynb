{
 "cells": [
  {
   "cell_type": "markdown",
   "metadata": {},
   "source": [
    "Functions \n",
    "def (input):\n",
    "    doc string \n",
    "    "
   ]
  },
  {
   "cell_type": "code",
   "execution_count": 1,
   "metadata": {},
   "outputs": [
    {
     "name": "stdout",
     "output_type": "stream",
     "text": [
      "odd\n"
     ]
    }
   ],
   "source": [
    "#even odd function \n",
    "def even_or_odd(n):\n",
    "    ''' this function will do this '''\n",
    "    if n%2==0: print(\"even\")\n",
    "    else: print(\"odd\")\n",
    "even_or_odd(23)"
   ]
  },
  {
   "cell_type": "code",
   "execution_count": 2,
   "metadata": {},
   "outputs": [],
   "source": [
    "#multiple parameter \n",
    "def add(a,b):\n",
    "    \"\"\" Docstream mean adding num\"\"\"\n",
    "    c=a+b\n",
    "    return a+b"
   ]
  },
  {
   "cell_type": "code",
   "execution_count": 3,
   "metadata": {},
   "outputs": [
    {
     "name": "stdout",
     "output_type": "stream",
     "text": [
      "Helllo alamin,Welcome to Du pHysics\n"
     ]
    }
   ],
   "source": [
    "#default parameter \n",
    "#if name is not given , by default it will take guest as name\n",
    "def greet(name=\"Guest\"):\n",
    "    print(f\"Helllo {name},Welcome to Du pHysics\")\n",
    "greet(\"alamin\")\n"
   ]
  },
  {
   "cell_type": "code",
   "execution_count": 4,
   "metadata": {},
   "outputs": [
    {
     "name": "stdout",
     "output_type": "stream",
     "text": [
      "1\n",
      "2\n",
      "3\n",
      "4\n",
      "5\n",
      "7\n",
      "alo\n"
     ]
    }
   ],
   "source": [
    "#variable length Arguments \n",
    "#Positional and keywords argument \n",
    "#def print_num (num1,num2,num3,num4,num4)\n",
    "\"\"\"If there is multiple input , then we can write\n",
    "*args instead of all the number .so *args is refering\n",
    "all the position . \"\"\"\n",
    "\n",
    "def print_num (*args):\n",
    "    for num in args:\n",
    "        print(num)\n",
    "print_num(1,2,3,4,5,7,\"alo\")"
   ]
  },
  {
   "cell_type": "code",
   "execution_count": 6,
   "metadata": {},
   "outputs": [
    {
     "name": "stdout",
     "output_type": "stream",
     "text": [
      "name:alamin\n",
      "age:42\n",
      "country:BD\n"
     ]
    }
   ],
   "source": [
    "#keyword function \n",
    "def print_details (**kwargs):\n",
    "    for key,value in kwargs.items():\n",
    "        print(f\"{key}:{value}\")\n",
    "print_details(name=\"alamin\",age=42,country=\"BD\")"
   ]
  }
 ],
 "metadata": {
  "kernelspec": {
   "display_name": ".venv",
   "language": "python",
   "name": "python3"
  },
  "language_info": {
   "codemirror_mode": {
    "name": "ipython",
    "version": 3
   },
   "file_extension": ".py",
   "mimetype": "text/x-python",
   "name": "python",
   "nbconvert_exporter": "python",
   "pygments_lexer": "ipython3",
   "version": "3.13.1"
  }
 },
 "nbformat": 4,
 "nbformat_minor": 2
}
